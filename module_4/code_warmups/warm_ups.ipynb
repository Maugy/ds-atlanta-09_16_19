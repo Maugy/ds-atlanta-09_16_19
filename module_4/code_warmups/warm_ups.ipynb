{
 "cells": [
  {
   "cell_type": "markdown",
   "metadata": {},
   "source": [
    "# 10/30/19 -- More For loops "
   ]
  },
  {
   "cell_type": "code",
   "execution_count": null,
   "metadata": {},
   "outputs": [],
   "source": [
    "from IPython.display import display\n",
    "from PIL import Image\n",
    "\n",
    "\n",
    "path=\"break_statement.jpg\"\n",
    "display(Image.open(path))"
   ]
  },
  {
   "cell_type": "code",
   "execution_count": null,
   "metadata": {},
   "outputs": [],
   "source": [
    "'''Create a list of fruits then write a for loop that iterates over that list and returns\n",
    "each item. Try to do this 2 different ways and include a print statement that says \n",
    "Current fruit:'''\n",
    "\n",
    "\n",
    "fruit = ['banana','apple','rambutan','durian','mango','papaya','grapes','guava','jackfruit','watermelon']\n",
    "\n",
    "for i, value in enumerate(list):\n",
    "    if value in list:\n",
    "        p\n",
    "\n",
    "\n",
    "\n",
    "#Current fruit : banana\n",
    "#Current fruit : apple\n",
    "#Current fruit : mango"
   ]
  },
  {
   "cell_type": "markdown",
   "metadata": {},
   "source": [
    "# 11/4/19 -- Control Flow "
   ]
  },
  {
   "cell_type": "markdown",
   "metadata": {},
   "source": [
    "Question 1- A number raised to the third power is called a cube. For example, the cube of 2 is written as 2**3 in Python. Make a list of the first 10 cubes (that is, the cube of each integer from 1 through 10), and use a for loop to print out the value of each cube. Try a list comprehension if you can."
   ]
  },
  {
   "cell_type": "code",
   "execution_count": 1,
   "metadata": {},
   "outputs": [
    {
     "name": "stdout",
     "output_type": "stream",
     "text": [
      "0\n",
      "1\n",
      "8\n",
      "27\n",
      "64\n",
      "125\n",
      "216\n",
      "343\n",
      "512\n",
      "729\n"
     ]
    }
   ],
   "source": [
    "i = 0 \n",
    "while i < 10:\n",
    "    print(i**3)\n",
    "    i = i +1\n",
    "    if i == 11:\n",
    "        break\n",
    "    \n",
    "    "
   ]
  },
  {
   "cell_type": "code",
   "execution_count": null,
   "metadata": {},
   "outputs": [],
   "source": []
  },
  {
   "cell_type": "markdown",
   "metadata": {},
   "source": [
    "**Question 2** Make a dictionary containing three major rivers and the country each river runs through. Use the Nile River in Egypt; the Mississippi River in the United States and the Yellow River in China. Then..\n",
    "\n",
    "1. Use a loop to print a sentence about each river, such as \"The Nile runs through Egypt\".\n",
    "2. Use a loop to print the name of each river included in the dictionary.\n",
    "3. Use a loop to print the name of each country included in the dictionary."
   ]
  },
  {
   "cell_type": "code",
   "execution_count": 4,
   "metadata": {},
   "outputs": [
    {
     "data": {
      "text/plain": [
       "{'Nile River': 'Egypt', 'Mississippi River': 'USA', 'Yellow River': 'China'}"
      ]
     },
     "execution_count": 4,
     "metadata": {},
     "output_type": "execute_result"
    }
   ],
   "source": [
    "rivers = {'Nile River': 'Egypt', 'Mississippi River': 'USA', 'Yellow River': 'China'}\n",
    "rivers"
   ]
  },
  {
   "cell_type": "code",
   "execution_count": 11,
   "metadata": {},
   "outputs": [
    {
     "name": "stdout",
     "output_type": "stream",
     "text": [
      "The Nile River runs through Egypt .\n",
      "The Mississippi River runs through USA .\n",
      "The Yellow River runs through China .\n"
     ]
    }
   ],
   "source": [
    "rivers = {'Nile River': 'Egypt', 'Mississippi River': 'USA', 'Yellow River': 'China'}\n",
    "for key,value in rivers.items():\n",
    "    print('The', key, 'runs through', value, '.')"
   ]
  },
  {
   "cell_type": "code",
   "execution_count": 12,
   "metadata": {},
   "outputs": [
    {
     "name": "stdout",
     "output_type": "stream",
     "text": [
      "Nile River\n",
      "Mississippi River\n",
      "Yellow River\n"
     ]
    }
   ],
   "source": [
    "for key in rivers.keys():\n",
    "    print(key)"
   ]
  },
  {
   "cell_type": "code",
   "execution_count": 13,
   "metadata": {},
   "outputs": [
    {
     "name": "stdout",
     "output_type": "stream",
     "text": [
      "Egypt\n",
      "USA\n",
      "China\n"
     ]
    }
   ],
   "source": [
    "for value in rivers.values():\n",
    "    print(value)"
   ]
  },
  {
   "cell_type": "code",
   "execution_count": null,
   "metadata": {},
   "outputs": [],
   "source": []
  }
 ],
 "metadata": {
  "kernelspec": {
   "display_name": "Python [conda env:learn-env] *",
   "language": "python",
   "name": "conda-env-learn-env-py"
  },
  "language_info": {
   "codemirror_mode": {
    "name": "ipython",
    "version": 3
   },
   "file_extension": ".py",
   "mimetype": "text/x-python",
   "name": "python",
   "nbconvert_exporter": "python",
   "pygments_lexer": "ipython3",
   "version": "3.6.6"
  },
  "varInspector": {
   "cols": {
    "lenName": 16,
    "lenType": 16,
    "lenVar": 40
   },
   "kernels_config": {
    "python": {
     "delete_cmd_postfix": "",
     "delete_cmd_prefix": "del ",
     "library": "var_list.py",
     "varRefreshCmd": "print(var_dic_list())"
    },
    "r": {
     "delete_cmd_postfix": ") ",
     "delete_cmd_prefix": "rm(",
     "library": "var_list.r",
     "varRefreshCmd": "cat(var_dic_list()) "
    }
   },
   "types_to_exclude": [
    "module",
    "function",
    "builtin_function_or_method",
    "instance",
    "_Feature"
   ],
   "window_display": false
  }
 },
 "nbformat": 4,
 "nbformat_minor": 2
}
