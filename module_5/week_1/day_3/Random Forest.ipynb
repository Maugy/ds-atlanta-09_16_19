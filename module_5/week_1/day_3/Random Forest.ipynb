{
 "cells": [
  {
   "cell_type": "markdown",
   "metadata": {},
   "source": [
    "# DM Version - Random Forest\n",
    "\n",
    "Slides: [link](https://docs.google.com/presentation/d/18KIHEHceqyeOGEOSPFZY-GWKGejYfztpqVruwCuf-QU/edit?usp=sharing)"
   ]
  },
  {
   "cell_type": "code",
   "execution_count": 4,
   "metadata": {},
   "outputs": [],
   "source": [
    "%matplotlib inline\n",
    "import numpy as np\n",
    "import matplotlib.pyplot as plt\n",
    "import seaborn as sns; sns.set()\n",
    "import pandas as pd\n",
    "from sklearn.tree import DecisionTreeClassifier\n",
    "from sklearn.ensemble import RandomForestClassifier\n",
    "from IPython.display import Image  \n",
    "from sklearn import tree\n",
    "import pydotplus\n",
    "from sklearn import metrics\n",
    "from sklearn.metrics import confusion_matrix\n",
    "from sklearn import preprocessing\n",
    "from sklearn.model_selection import train_test_split\n",
    "from sklearn.metrics import f1_score, classification_report\n",
    "from sklearn.model_selection import cross_val_score\n",
    "from sklearn.model_selection import GridSearchCV"
   ]
  },
  {
   "cell_type": "markdown",
   "metadata": {},
   "source": [
    "### Breast Cancer Random Forest Classifier"
   ]
  },
  {
   "cell_type": "code",
   "execution_count": 5,
   "metadata": {},
   "outputs": [],
   "source": [
    "bc=pd.read_csv('breast_cancer_scikit_onehot_dataset.csv')"
   ]
  },
  {
   "cell_type": "code",
   "execution_count": 6,
   "metadata": {},
   "outputs": [],
   "source": [
    "target=bc['class']\n",
    "target = bc['class'].map(lambda x: 1 if x == 4 else 0).values \n",
    "target = pd.Series(target)"
   ]
  },
  {
   "cell_type": "code",
   "execution_count": 7,
   "metadata": {},
   "outputs": [
    {
     "data": {
      "text/html": [
       "<div>\n",
       "<style scoped>\n",
       "    .dataframe tbody tr th:only-of-type {\n",
       "        vertical-align: middle;\n",
       "    }\n",
       "\n",
       "    .dataframe tbody tr th {\n",
       "        vertical-align: top;\n",
       "    }\n",
       "\n",
       "    .dataframe thead th {\n",
       "        text-align: right;\n",
       "    }\n",
       "</style>\n",
       "<table border=\"1\" class=\"dataframe\">\n",
       "  <thead>\n",
       "    <tr style=\"text-align: right;\">\n",
       "      <th></th>\n",
       "      <th>clump_thickness</th>\n",
       "      <th>uniformity_of_cell_size</th>\n",
       "      <th>uniformity_of_cell_shape</th>\n",
       "      <th>marginal_adhesion</th>\n",
       "      <th>single_epithelial_cell_size</th>\n",
       "      <th>bare_nuclei</th>\n",
       "      <th>bland_chromatin</th>\n",
       "      <th>normal_nucleoli</th>\n",
       "      <th>mitosis</th>\n",
       "    </tr>\n",
       "  </thead>\n",
       "  <tbody>\n",
       "    <tr>\n",
       "      <td>0</td>\n",
       "      <td>5.0</td>\n",
       "      <td>1.0</td>\n",
       "      <td>1.0</td>\n",
       "      <td>1.0</td>\n",
       "      <td>2.0</td>\n",
       "      <td>1.0</td>\n",
       "      <td>3.0</td>\n",
       "      <td>1.0</td>\n",
       "      <td>1.0</td>\n",
       "    </tr>\n",
       "    <tr>\n",
       "      <td>1</td>\n",
       "      <td>5.0</td>\n",
       "      <td>4.0</td>\n",
       "      <td>4.0</td>\n",
       "      <td>5.0</td>\n",
       "      <td>7.0</td>\n",
       "      <td>10.0</td>\n",
       "      <td>3.0</td>\n",
       "      <td>2.0</td>\n",
       "      <td>1.0</td>\n",
       "    </tr>\n",
       "    <tr>\n",
       "      <td>2</td>\n",
       "      <td>3.0</td>\n",
       "      <td>1.0</td>\n",
       "      <td>1.0</td>\n",
       "      <td>1.0</td>\n",
       "      <td>2.0</td>\n",
       "      <td>2.0</td>\n",
       "      <td>3.0</td>\n",
       "      <td>1.0</td>\n",
       "      <td>1.0</td>\n",
       "    </tr>\n",
       "    <tr>\n",
       "      <td>3</td>\n",
       "      <td>6.0</td>\n",
       "      <td>8.0</td>\n",
       "      <td>8.0</td>\n",
       "      <td>1.0</td>\n",
       "      <td>3.0</td>\n",
       "      <td>4.0</td>\n",
       "      <td>3.0</td>\n",
       "      <td>7.0</td>\n",
       "      <td>1.0</td>\n",
       "    </tr>\n",
       "    <tr>\n",
       "      <td>4</td>\n",
       "      <td>4.0</td>\n",
       "      <td>1.0</td>\n",
       "      <td>1.0</td>\n",
       "      <td>3.0</td>\n",
       "      <td>2.0</td>\n",
       "      <td>1.0</td>\n",
       "      <td>3.0</td>\n",
       "      <td>1.0</td>\n",
       "      <td>1.0</td>\n",
       "    </tr>\n",
       "  </tbody>\n",
       "</table>\n",
       "</div>"
      ],
      "text/plain": [
       "   clump_thickness  uniformity_of_cell_size  uniformity_of_cell_shape  \\\n",
       "0              5.0                      1.0                       1.0   \n",
       "1              5.0                      4.0                       4.0   \n",
       "2              3.0                      1.0                       1.0   \n",
       "3              6.0                      8.0                       8.0   \n",
       "4              4.0                      1.0                       1.0   \n",
       "\n",
       "   marginal_adhesion  single_epithelial_cell_size  bare_nuclei  \\\n",
       "0                1.0                          2.0          1.0   \n",
       "1                5.0                          7.0         10.0   \n",
       "2                1.0                          2.0          2.0   \n",
       "3                1.0                          3.0          4.0   \n",
       "4                3.0                          2.0          1.0   \n",
       "\n",
       "   bland_chromatin  normal_nucleoli  mitosis  \n",
       "0              3.0              1.0      1.0  \n",
       "1              3.0              2.0      1.0  \n",
       "2              3.0              1.0      1.0  \n",
       "3              3.0              7.0      1.0  \n",
       "4              3.0              1.0      1.0  "
      ]
     },
     "execution_count": 7,
     "metadata": {},
     "output_type": "execute_result"
    }
   ],
   "source": [
    "predictor=bc.drop(columns=['class'])\n",
    "predictor.head()"
   ]
  },
  {
   "cell_type": "code",
   "execution_count": 8,
   "metadata": {},
   "outputs": [
    {
     "data": {
      "text/plain": [
       "0    0.634446\n",
       "1    0.365554\n",
       "dtype: float64"
      ]
     },
     "execution_count": 8,
     "metadata": {},
     "output_type": "execute_result"
    }
   ],
   "source": [
    "target.value_counts(normalize=True)"
   ]
  },
  {
   "cell_type": "code",
   "execution_count": 9,
   "metadata": {},
   "outputs": [],
   "source": [
    "# Import train_test_split function\n",
    "# Split dataset into training set and test set\n",
    "X_train, X_test, y_train, y_test = train_test_split(predictor, target, test_size=0.3,random_state=9) "
   ]
  },
  {
   "cell_type": "code",
   "execution_count": 10,
   "metadata": {},
   "outputs": [
    {
     "data": {
      "text/plain": [
       "RandomForestClassifier(bootstrap=True, class_weight='balanced',\n",
       "                       criterion='gini', max_depth=None, max_features='auto',\n",
       "                       max_leaf_nodes=16, min_impurity_decrease=0.0,\n",
       "                       min_impurity_split=None, min_samples_leaf=1,\n",
       "                       min_samples_split=2, min_weight_fraction_leaf=0.0,\n",
       "                       n_estimators=500, n_jobs=-1, oob_score=False,\n",
       "                       random_state=None, verbose=0, warm_start=False)"
      ]
     },
     "execution_count": 10,
     "metadata": {},
     "output_type": "execute_result"
    }
   ],
   "source": [
    "# fit our model\n",
    "rnd_clf = RandomForestClassifier(n_estimators=500, max_leaf_nodes=16,class_weight='balanced', n_jobs=-1)\n",
    "rnd_clf.fit(X_train, y_train)"
   ]
  },
  {
   "cell_type": "code",
   "execution_count": 11,
   "metadata": {},
   "outputs": [],
   "source": [
    "importances = rnd_clf.feature_importances_"
   ]
  },
  {
   "cell_type": "code",
   "execution_count": 12,
   "metadata": {},
   "outputs": [
    {
     "data": {
<<<<<<< HEAD
      "image/png": "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\n",
=======
      "image/png": "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\n",
>>>>>>> 19bd7b5bb881673bf389375171a8f28e2cda21d1
      "text/plain": [
       "<Figure size 432x288 with 1 Axes>"
      ]
     },
     "metadata": {
      "needs_background": "light"
     },
     "output_type": "display_data"
    }
   ],
   "source": [
    "# creating list of column names\n",
    "feat_names=list(X_train)\n",
    "\n",
    "# Sort feature importances in descending order\n",
    "indices = np.argsort(importances)[::-1]\n",
    "\n",
    "# Rearrange feature names so they match the sorted feature importances\n",
    "names = [feat_names[i] for i in indices]\n",
    "\n",
    "# Create plot\n",
    "plt.figure()\n",
    "\n",
    "# Create plot title\n",
    "plt.title(\"Feature Importance\")\n",
    "\n",
    "# Add bars\n",
    "plt.bar(range(X_train.shape[1]), importances[indices])\n",
    "\n",
    "# Add feature names as x-axis labels\n",
    "plt.xticks(range(X_train.shape[1]), names, rotation=90)\n",
    "\n",
    "# Show plot\n",
    "plt.show()"
   ]
  },
  {
   "cell_type": "code",
<<<<<<< HEAD
   "execution_count": 10,
=======
   "execution_count": 13,
>>>>>>> 19bd7b5bb881673bf389375171a8f28e2cda21d1
   "metadata": {},
   "outputs": [],
   "source": [
    "# Predictions for the test data\n",
    "y_pred = rnd_clf.predict(X_test)"
   ]
  },
  {
   "cell_type": "code",
<<<<<<< HEAD
   "execution_count": 11,
=======
   "execution_count": 14,
>>>>>>> 19bd7b5bb881673bf389375171a8f28e2cda21d1
   "metadata": {},
   "outputs": [
    {
     "data": {
      "text/plain": [
<<<<<<< HEAD
       "array([[0.99868657, 0.00131343],\n",
       "       [0.32801232, 0.67198768],\n",
       "       [0.99868684, 0.00131316],\n",
       "       [0.0573006 , 0.9426994 ],\n",
       "       [0.99845444, 0.00154556]])"
      ]
     },
     "execution_count": 11,
=======
       "array([[0.99889124, 0.00110876],\n",
       "       [0.33310077, 0.66689923],\n",
       "       [0.9989498 , 0.0010502 ],\n",
       "       [0.07892513, 0.92107487],\n",
       "       [0.9987007 , 0.0012993 ]])"
      ]
     },
     "execution_count": 14,
>>>>>>> 19bd7b5bb881673bf389375171a8f28e2cda21d1
     "metadata": {},
     "output_type": "execute_result"
    }
   ],
   "source": [
    "# Class Probailities\n",
    "yprob = rnd_clf.predict_proba(X_test)\n",
    "yprob\n",
    "yprob[:5]"
   ]
  },
  {
   "cell_type": "code",
<<<<<<< HEAD
   "execution_count": 12,
=======
   "execution_count": 15,
>>>>>>> 19bd7b5bb881673bf389375171a8f28e2cda21d1
   "metadata": {},
   "outputs": [
    {
     "name": "stdout",
     "output_type": "stream",
     "text": [
<<<<<<< HEAD
      "Accuracy: 0.9649122807017544\n"
=======
      "Accuracy: 0.9590643274853801\n"
>>>>>>> 19bd7b5bb881673bf389375171a8f28e2cda21d1
     ]
    }
   ],
   "source": [
    "# Model Accuracy, how often is the classifier correct?\n",
    "print(\"Accuracy:\",metrics.accuracy_score(y_test, y_pred))"
   ]
  },
  {
   "cell_type": "code",
   "execution_count": 13,
   "metadata": {},
   "outputs": [
    {
     "data": {
      "text/plain": [
       "array([[97,  4],\n",
       "       [ 2, 68]])"
      ]
     },
     "execution_count": 13,
     "metadata": {},
     "output_type": "execute_result"
    }
   ],
   "source": [
    "from sklearn.metrics import confusion_matrix\n",
    "cm=confusion_matrix(y_test, y_pred)\n",
    "cm"
   ]
  },
  {
   "cell_type": "code",
   "execution_count": 14,
   "metadata": {
    "scrolled": true
   },
   "outputs": [
    {
     "data": {
      "image/png": "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\n",
      "text/plain": [
       "<Figure size 396x288 with 2 Axes>"
      ]
     },
     "metadata": {
      "needs_background": "light"
     },
     "output_type": "display_data"
    }
   ],
   "source": [
    "# Transform to df for easier plotting\n",
    "import seaborn as sns; sns.set()\n",
    "\n",
    "cm_df = pd.DataFrame(cm)\n",
    "plt.figure(figsize=(5.5,4))\n",
    "sns.heatmap(cm_df, annot=True)\n",
    "plt.title('Decision Tree Classifier')\n",
    "plt.ylabel('True label')\n",
    "plt.xlabel('Predicted label')\n",
    "plt.show()"
   ]
  },
  {
   "cell_type": "code",
   "execution_count": 15,
   "metadata": {},
   "outputs": [
    {
     "data": {
      "text/plain": [
       "'              precision    recall  f1-score   support\\n\\n           0       0.98      0.96      0.97       101\\n           1       0.94      0.97      0.96        70\\n\\n    accuracy                           0.96       171\\n   macro avg       0.96      0.97      0.96       171\\nweighted avg       0.97      0.96      0.96       171\\n'"
      ]
     },
     "execution_count": 15,
     "metadata": {},
     "output_type": "execute_result"
    }
   ],
   "source": [
    "classification_report(y_test, y_pred)"
   ]
  },
  {
   "cell_type": "code",
   "execution_count": 16,
   "metadata": {},
   "outputs": [
    {
     "data": {
      "text/plain": [
       "0.9577464788732395"
      ]
     },
     "execution_count": 16,
     "metadata": {},
     "output_type": "execute_result"
    }
   ],
   "source": [
    "from sklearn.metrics import f1_score\n",
    "f1_score(y_test, y_pred)"
   ]
  },
  {
   "cell_type": "markdown",
   "metadata": {},
   "source": [
    "# Grid Search"
   ]
  },
  {
   "cell_type": "markdown",
   "metadata": {},
   "source": [
    "RandomForestClassifier(bootstrap=True, class_weight='balanced',\n",
    "            criterion='gini', max_depth=None, max_features='auto',\n",
    "            max_leaf_nodes=16, min_impurity_decrease=0.0,\n",
    "            min_impurity_split=None, min_samples_leaf=1,\n",
    "            min_samples_split=2, min_weight_fraction_leaf=0.0,\n",
    "            n_estimators=500, n_jobs=-1, oob_score=False,\n",
    "            random_state=None, verbose=0, warm_start=False)"
   ]
  },
  {
   "cell_type": "code",
   "execution_count": 17,
   "metadata": {},
   "outputs": [
    {
     "name": "stderr",
     "output_type": "stream",
     "text": [
      "/Users/dmauger/anaconda3/envs/learn-env/lib/python3.6/site-packages/sklearn/model_selection/_search.py:814: DeprecationWarning: The default of the `iid` parameter will change from True to False in version 0.22 and will be removed in 0.24. This will change numeric results when test-set sizes are unequal.\n",
      "  DeprecationWarning)\n"
     ]
    },
    {
     "data": {
      "text/plain": [
       "GridSearchCV(cv=5, error_score='raise-deprecating',\n",
       "             estimator=RandomForestClassifier(bootstrap=True, class_weight=None,\n",
       "                                              criterion='gini', max_depth=None,\n",
       "                                              max_features='auto',\n",
       "                                              max_leaf_nodes=None,\n",
       "                                              min_impurity_decrease=0.0,\n",
       "                                              min_impurity_split=None,\n",
       "                                              min_samples_leaf=1,\n",
       "                                              min_samples_split=2,\n",
       "                                              min_weight_fraction_leaf=0.0,\n",
       "                                              n_estimators='warn', n_jobs=None,\n",
       "                                              oob_score=False,\n",
       "                                              random_state=None, verbose=0,\n",
       "                                              warm_start=False),\n",
       "             iid='warn', n_jobs=None,\n",
       "             param_grid=[{'class_weight': ['balanced'],\n",
       "                          'max_features': [2, 4, 6, 8],\n",
       "                          'max_leaf_nodes': [5, 10, 15, 20],\n",
       "                          'n_estimators': range(1, 5)}],\n",
       "             pre_dispatch='2*n_jobs', refit=True, return_train_score=True,\n",
       "             scoring='f1', verbose=0)"
      ]
     },
     "execution_count": 17,
     "metadata": {},
     "output_type": "execute_result"
    }
   ],
   "source": [
    "# parameters we are interested in exploring\n",
    "param_grid = [{'n_estimators': range(1,5), 'max_features': [2, 4, 6, 8],  'max_leaf_nodes':[5,10,15,20],'class_weight':['balanced']},]\n",
    "forest_clf = RandomForestClassifier()\n",
    "grid_search = GridSearchCV(forest_clf, param_grid, cv=5,scoring='f1',return_train_score=True)\n",
    "\n",
    "#fit model with parameters from grid search\n",
    "grid_search.fit(X_train, y_train)"
   ]
  },
  {
   "cell_type": "code",
   "execution_count": 18,
   "metadata": {},
   "outputs": [
    {
     "data": {
      "text/plain": [
       "{'class_weight': 'balanced',\n",
       " 'max_features': 8,\n",
       " 'max_leaf_nodes': 5,\n",
       " 'n_estimators': 4}"
      ]
     },
     "execution_count": 18,
     "metadata": {},
     "output_type": "execute_result"
    }
   ],
   "source": [
    "# Return the best parameters\n",
    "grid_search.best_params_"
   ]
  },
  {
   "cell_type": "code",
   "execution_count": 19,
   "metadata": {},
   "outputs": [],
   "source": [
    "y_pred = grid_search.predict(X_test)"
   ]
  },
  {
   "cell_type": "code",
   "execution_count": 20,
   "metadata": {},
   "outputs": [
    {
     "name": "stdout",
     "output_type": "stream",
     "text": [
      "Accuracy: 0.9064327485380117\n"
     ]
    }
   ],
   "source": [
    "print(\"Accuracy:\",metrics.accuracy_score(y_test, y_pred))"
   ]
  },
  {
   "cell_type": "code",
   "execution_count": 21,
   "metadata": {},
   "outputs": [
    {
     "name": "stdout",
     "output_type": "stream",
     "text": [
      "f1 Score: 0.8904109589041096\n"
     ]
    }
   ],
   "source": [
    "print(\"f1 Score:\",f1_score(y_test, y_pred))"
   ]
  },
  {
   "cell_type": "code",
   "execution_count": 22,
   "metadata": {},
   "outputs": [
    {
     "name": "stdout",
     "output_type": "stream",
     "text": [
      "              precision    recall  f1-score   support\n",
      "\n",
      "           0       0.95      0.89      0.92       101\n",
      "           1       0.86      0.93      0.89        70\n",
      "\n",
      "    accuracy                           0.91       171\n",
      "   macro avg       0.90      0.91      0.90       171\n",
      "weighted avg       0.91      0.91      0.91       171\n",
      "\n"
     ]
    }
   ],
   "source": [
    "print(classification_report(y_test, y_pred))"
   ]
  },
  {
   "cell_type": "markdown",
   "metadata": {},
   "source": [
    "## Class Work \n",
    "### Implement Gradient Boosting Classifier and Grid Seach\n",
    "- Use favorite implementation\n",
    "- Boosting Algorithms: [link](https://towardsdatascience.com/https-medium-com-talperetz24-mastering-the-new-generation-of-gradient-boosting-db04062a7ea2)"
   ]
  },
  {
   "cell_type": "code",
   "execution_count": null,
   "metadata": {},
   "outputs": [
    {
     "name": "stdout",
     "output_type": "stream",
     "text": [
      "Collecting package metadata (current_repodata.json): done\n",
      "Solving environment: done\n",
      "\n",
      "## Package Plan ##\n",
      "\n",
      "  environment location: /Users/dmauger/anaconda3/envs/learn-env\n",
      "\n",
      "  added / updated specs:\n",
      "    - py-xgboost\n",
      "\n",
      "\n",
      "The following packages will be downloaded:\n",
      "\n",
      "    package                    |            build\n",
      "    ---------------------------|-----------------\n",
      "    ca-certificates-2019.10.16 |                0         131 KB\n",
      "    ------------------------------------------------------------\n",
      "                                           Total:         131 KB\n",
      "\n",
      "The following packages will be UPDATED:\n",
      "\n",
      "  ca-certificates    conda-forge::ca-certificates-2019.9.1~ --> pkgs/main::ca-certificates-2019.10.16-0\n",
      "  certifi             conda-forge::certifi-2019.6.16-py36_1 --> pkgs/main::certifi-2019.9.11-py36_0\n",
      "  openssl            conda-forge::openssl-1.0.2r-h1de35cc_0 --> pkgs/main::openssl-1.0.2t-h1de35cc_1\n",
      "\n",
      "\n",
      "Proceed ([y]/n)? "
     ]
    }
   ],
   "source": [
    "!conda install py-xgboost"
   ]
  },
  {
   "cell_type": "code",
   "execution_count": 16,
   "metadata": {},
   "outputs": [],
   "source": [
    "import xgboost as xgb"
   ]
  },
  {
   "cell_type": "code",
   "execution_count": null,
   "metadata": {},
   "outputs": [],
   "source": [
    "xgb_clf = xgb.XGBClassifier()\n",
    "xgb_clf.fit(X_train, y_train)"
   ]
  },
  {
   "cell_type": "markdown",
   "metadata": {},
   "source": [
    "Parameters XGBOOST: [link](https://xgboost.readthedocs.io/en/latest/parameter.html)\n",
    "\n"
   ]
  },
  {
   "cell_type": "code",
   "execution_count": 1,
   "metadata": {},
   "outputs": [],
   "source": [
    "param_grid = {\"learning_rate\": [0.1,0.01,.5],'max_depth': [1,5,10,20],'min_child_weight': [10],'subsample': [ 0.5],'n_estimators': [5, 30, 100, 250,1000],}"
   ]
  },
  {
   "cell_type": "code",
   "execution_count": 2,
   "metadata": {},
   "outputs": [
    {
     "ename": "NameError",
     "evalue": "name 'xgb' is not defined",
     "output_type": "error",
     "traceback": [
      "\u001b[0;31m---------------------------------------------------------------------------\u001b[0m",
      "\u001b[0;31mNameError\u001b[0m                                 Traceback (most recent call last)",
      "\u001b[0;32m<ipython-input-2-c73b30382ac1>\u001b[0m in \u001b[0;36m<module>\u001b[0;34m\u001b[0m\n\u001b[1;32m      1\u001b[0m \u001b[0;32mfrom\u001b[0m \u001b[0msklearn\u001b[0m\u001b[0;34m.\u001b[0m\u001b[0mmodel_selection\u001b[0m \u001b[0;32mimport\u001b[0m \u001b[0mGridSearchCV\u001b[0m\u001b[0;34m\u001b[0m\u001b[0;34m\u001b[0m\u001b[0m\n\u001b[0;32m----> 2\u001b[0;31m \u001b[0mxgb_clf\u001b[0m\u001b[0;34m=\u001b[0m \u001b[0mxgb\u001b[0m\u001b[0;34m.\u001b[0m\u001b[0mXGBClassifier\u001b[0m\u001b[0;34m(\u001b[0m\u001b[0;34m)\u001b[0m\u001b[0;34m\u001b[0m\u001b[0;34m\u001b[0m\u001b[0m\n\u001b[0m\u001b[1;32m      3\u001b[0m \u001b[0mgrid_search\u001b[0m \u001b[0;34m=\u001b[0m \u001b[0mGridSearchCV\u001b[0m\u001b[0;34m(\u001b[0m\u001b[0mxgb_clf\u001b[0m\u001b[0;34m,\u001b[0m \u001b[0mparam_grid\u001b[0m\u001b[0;34m,\u001b[0m \u001b[0mcv\u001b[0m\u001b[0;34m=\u001b[0m\u001b[0;36m5\u001b[0m\u001b[0;34m,\u001b[0m\u001b[0mscoring\u001b[0m\u001b[0;34m=\u001b[0m\u001b[0;34m'f1'\u001b[0m\u001b[0;34m,\u001b[0m\u001b[0mreturn_train_score\u001b[0m\u001b[0;34m=\u001b[0m\u001b[0;32mTrue\u001b[0m\u001b[0;34m)\u001b[0m\u001b[0;34m\u001b[0m\u001b[0;34m\u001b[0m\u001b[0m\n\u001b[1;32m      4\u001b[0m \u001b[0;34m\u001b[0m\u001b[0m\n\u001b[1;32m      5\u001b[0m \u001b[0;31m#fit model with parameters from grid search\u001b[0m\u001b[0;34m\u001b[0m\u001b[0;34m\u001b[0m\u001b[0;34m\u001b[0m\u001b[0m\n",
      "\u001b[0;31mNameError\u001b[0m: name 'xgb' is not defined"
     ]
    }
   ],
   "source": [
    "from sklearn.model_selection import GridSearchCV\n",
    "xgb_clf= xgb.XGBClassifier()\n",
    "grid_search = GridSearchCV(xgb_clf, param_grid, cv=5,scoring='f1',return_train_score=True)\n",
    "\n",
    "#fit model with parameters from grid search\n",
    "grid_search.fit(X_train, y_train)"
   ]
  },
  {
   "cell_type": "code",
   "execution_count": null,
   "metadata": {},
   "outputs": [],
   "source": [
    "y_pred = grid_search.predict(X_test)\n",
    "print(\"Accuracy:\",metrics.accuracy_score(y_test, y_pred))"
   ]
  },
  {
   "cell_type": "code",
   "execution_count": null,
   "metadata": {},
   "outputs": [],
   "source": [
    "print(\"f1 Score:\",f1_score(y_test, y_pred))"
   ]
  },
  {
   "cell_type": "code",
   "execution_count": null,
   "metadata": {},
   "outputs": [],
   "source": [
    "!pip install catboost\n",
    "!pip install ipywidgets\n",
    "!jupyter nbextension enable --py widgetsnbextension"
   ]
  },
  {
   "cell_type": "code",
   "execution_count": null,
   "metadata": {},
   "outputs": [],
   "source": []
  }
 ],
 "metadata": {
  "kernelspec": {
   "display_name": "Python [conda env:learn-env] *",
   "language": "python",
   "name": "conda-env-learn-env-py"
  },
  "language_info": {
   "codemirror_mode": {
    "name": "ipython",
    "version": 3
   },
   "file_extension": ".py",
   "mimetype": "text/x-python",
   "name": "python",
   "nbconvert_exporter": "python",
   "pygments_lexer": "ipython3",
   "version": "3.6.6"
  },
  "varInspector": {
   "cols": {
    "lenName": 16,
    "lenType": 16,
    "lenVar": 40
   },
   "kernels_config": {
    "python": {
     "delete_cmd_postfix": "",
     "delete_cmd_prefix": "del ",
     "library": "var_list.py",
     "varRefreshCmd": "print(var_dic_list())"
    },
    "r": {
     "delete_cmd_postfix": ") ",
     "delete_cmd_prefix": "rm(",
     "library": "var_list.r",
     "varRefreshCmd": "cat(var_dic_list()) "
    }
   },
   "types_to_exclude": [
    "module",
    "function",
    "builtin_function_or_method",
    "instance",
    "_Feature"
   ],
   "window_display": false
  }
 },
 "nbformat": 4,
 "nbformat_minor": 2
}
