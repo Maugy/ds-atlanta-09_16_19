{
 "cells": [
  {
   "cell_type": "markdown",
   "metadata": {},
   "source": [
    "## DM Version - Code Warmup"
   ]
  },
  {
   "cell_type": "markdown",
   "metadata": {},
   "source": [
    "<font face=\"verdana\" size=\"3\">This is a dictionary of Scrabble letters and their representative values. Write a function that returns the score of a word that is passed to it. It should work for any word but lets all try cabbage.</font> ![](attachment:image.png)"
   ]
  },
  {
   "cell_type": "code",
   "execution_count": 1,
   "metadata": {},
   "outputs": [],
   "source": [
    "values = {\n",
    "    'a': 1,\n",
    "    'e': 1,\n",
    "    'i': 1,\n",
    "    'o': 1,\n",
    "    'u': 1,\n",
    "    'l': 1,\n",
    "    'n': 1,\n",
    "    'r': 1,\n",
    "    's': 1,\n",
    "    't': 1,\n",
    "    'd': 2,\n",
    "    'g': 2,\n",
    "    'b': 3,\n",
    "    'c': 3,\n",
    "    'm': 3,\n",
    "    'p': 3,\n",
    "    'f': 4,\n",
    "    'h': 4,\n",
    "    'v': 4,\n",
    "    'w': 4,\n",
    "    'y': 4,\n",
    "    'k': 5,\n",
    "    'j': 8,\n",
    "    'x': 8,\n",
    "    'q': 10,\n",
    "    'z': 10,\n",
    "}\n",
    "\n",
    "\n",
    "def score(word):\n",
    "    count = 0\n",
    "    for letter in word:\n",
    "        count += values[letter]\n",
    "    return count\n"
   ]
  },
  {
   "cell_type": "code",
   "execution_count": 7,
   "metadata": {},
   "outputs": [
    {
     "name": "stdout",
     "output_type": "stream",
     "text": [
      "Collecting PyDictionary\n",
      "  Downloading https://files.pythonhosted.org/packages/bf/b3/3014f6ee372f93d7bc1c743b020d0b223d7e792f2aa4f117466991832ba1/PyDictionary-1.5.2.zip\n",
      "Requirement already satisfied: beautifulsoup4 in /Users/dmauger/anaconda3/lib/python3.7/site-packages (from PyDictionary) (4.7.1)\n",
      "Collecting goslate (from PyDictionary)\n",
      "  Downloading https://files.pythonhosted.org/packages/39/0b/50af938a1c3d4f4c595b6a22d37af11ebe666246b05a1a97573e8c8944e5/goslate-1.5.1.tar.gz\n",
      "Requirement already satisfied: requests in /Users/dmauger/anaconda3/lib/python3.7/site-packages (from PyDictionary) (2.22.0)\n",
      "Requirement already satisfied: click in /Users/dmauger/anaconda3/lib/python3.7/site-packages (from PyDictionary) (7.0)\n",
      "Requirement already satisfied: soupsieve>=1.2 in /Users/dmauger/anaconda3/lib/python3.7/site-packages (from beautifulsoup4->PyDictionary) (1.8)\n",
      "Collecting futures (from goslate->PyDictionary)\n",
      "  Downloading https://files.pythonhosted.org/packages/05/80/f41cca0ea1ff69bce7e7a7d76182b47bb4e1a494380a532af3e8ee70b9ec/futures-3.1.1-py3-none-any.whl\n",
      "Requirement already satisfied: chardet<3.1.0,>=3.0.2 in /Users/dmauger/anaconda3/lib/python3.7/site-packages (from requests->PyDictionary) (3.0.4)\n",
      "Requirement already satisfied: urllib3!=1.25.0,!=1.25.1,<1.26,>=1.21.1 in /Users/dmauger/anaconda3/lib/python3.7/site-packages (from requests->PyDictionary) (1.24.2)\n",
      "Requirement already satisfied: certifi>=2017.4.17 in /Users/dmauger/anaconda3/lib/python3.7/site-packages (from requests->PyDictionary) (2019.6.16)\n",
      "Requirement already satisfied: idna<2.9,>=2.5 in /Users/dmauger/anaconda3/lib/python3.7/site-packages (from requests->PyDictionary) (2.8)\n",
      "Building wheels for collected packages: PyDictionary, goslate\n",
      "  Building wheel for PyDictionary (setup.py) ... \u001b[?25ldone\n",
      "\u001b[?25h  Stored in directory: /Users/dmauger/Library/Caches/pip/wheels/8f/55/4a/14dc8470ed285bf2463f958022322e8de7c46c2555c45e3007\n",
      "  Building wheel for goslate (setup.py) ... \u001b[?25ldone\n",
      "\u001b[?25h  Stored in directory: /Users/dmauger/Library/Caches/pip/wheels/4f/7f/28/6f52271012a7649b54b1a7adaae329b4246bbbf9d1e4f6e51a\n",
      "Successfully built PyDictionary goslate\n",
      "Installing collected packages: futures, goslate, PyDictionary\n",
      "Successfully installed PyDictionary-1.5.2 futures-3.1.1 goslate-1.5.1\n"
     ]
    }
   ],
   "source": [
    "!pip install PyDictionary\n",
    "import PyDictionary as PyDict"
   ]
  },
  {
   "cell_type": "code",
   "execution_count": 3,
   "metadata": {},
   "outputs": [
    {
     "data": {
      "text/plain": [
       "14"
      ]
     },
     "execution_count": 3,
     "metadata": {},
     "output_type": "execute_result"
    }
   ],
   "source": [
    "score('cabbage') #14"
   ]
  },
  {
   "cell_type": "code",
   "execution_count": 4,
   "metadata": {},
   "outputs": [
    {
     "data": {
      "text/plain": [
       "38"
      ]
     },
     "execution_count": 4,
     "metadata": {},
     "output_type": "execute_result"
    }
   ],
   "source": [
    "score('antidisestablishmentarianism')"
   ]
  },
  {
   "cell_type": "code",
   "execution_count": 5,
   "metadata": {},
   "outputs": [
    {
     "data": {
      "text/plain": [
       "24"
      ]
     },
     "execution_count": 5,
     "metadata": {},
     "output_type": "execute_result"
    }
   ],
   "source": [
    "score('xylophone')"
   ]
  },
  {
   "cell_type": "code",
   "execution_count": 6,
   "metadata": {},
   "outputs": [
    {
     "data": {
      "text/plain": [
       "14"
      ]
     },
     "execution_count": 6,
     "metadata": {},
     "output_type": "execute_result"
    }
   ],
   "source": [
    "score('queue')"
   ]
  },
  {
   "cell_type": "code",
   "execution_count": null,
   "metadata": {},
   "outputs": [],
   "source": []
  }
 ],
 "metadata": {
  "kernelspec": {
   "display_name": "Python 3",
   "language": "python",
   "name": "python3"
  },
  "language_info": {
   "codemirror_mode": {
    "name": "ipython",
    "version": 3
   },
   "file_extension": ".py",
   "mimetype": "text/x-python",
   "name": "python",
   "nbconvert_exporter": "python",
   "pygments_lexer": "ipython3",
   "version": "3.7.3"
  }
 },
 "nbformat": 4,
 "nbformat_minor": 2
}
